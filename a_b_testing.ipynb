{
 "cells": [
  {
   "cell_type": "markdown",
   "id": "6121c98c-51df-48da-a484-ad83f24d2f10",
   "metadata": {
    "tags": []
   },
   "source": [
    "# A/B–тестирование\n",
    "\n",
    "Одной из основных задач аналитика является корректное проведение экспериментов. Для этого мы применяем метод A/B–тестирования. В ходе тестирования одной гипотезы целевой группе была предложена новая механика оплаты услуг на сайте, у контрольной группы оставалась базовая механика. Необходимо проанализировать итоги эксперимента и сделать вывод, стоит ли запускать новую механику оплаты на всех пользователей.\n",
    "\n",
    "## 1.1 Входные данные\n",
    "\n",
    "В качестве входных данных имеем 4 csv-файла:\n",
    "\n",
    "* [groups.csv](https://disk.yandex.ru/d/58Us0DWOzuWAjg) - файл с информацией о принадлежности пользователя к контрольной или экспериментальной группе (А – контроль, B – целевая группа) \n",
    "* [groups_add.csv](https://disk.yandex.ru/d/3aARY-P9pfaksg) - дополнительный файл с пользователями, который вам прислали спустя 2 дня после передачи данных\n",
    "* [active_studs.csv](https://disk.yandex.ru/d/prbgU-rZpiXVYg) - файл с информацией о пользователях, которые зашли на платформу в дни проведения эксперимента. \n",
    "* [checks.csv](https://disk.yandex.ru/d/84hTmELphW2sqQ) - файл с информацией об оплатах пользователей в дни проведения эксперимента. "
   ]
  },
  {
   "cell_type": "markdown",
   "id": "ba1a2e61-d119-4570-bac0-5423bbaeb7fa",
   "metadata": {},
   "source": [
    "Подгружаем необходимые библиотеки:"
   ]
  },
  {
   "cell_type": "code",
   "execution_count": 1,
   "id": "7853a4ae-a2c0-42e9-892d-0332c41172b0",
   "metadata": {},
   "outputs": [
    {
     "name": "stderr",
     "output_type": "stream",
     "text": [
      "D:\\Program Files\\Python310\\lib\\site-packages\\tqdm\\auto.py:22: TqdmWarning: IProgress not found. Please update jupyter and ipywidgets. See https://ipywidgets.readthedocs.io/en/stable/user_install.html\n",
      "  from .autonotebook import tqdm as notebook_tqdm\n"
     ]
    }
   ],
   "source": [
    "import pandas as pd\n",
    "import requests \n",
    "from urllib.parse import urlencode \n",
    "\n",
    "import matplotlib.pyplot as plt\n",
    "%matplotlib inline\n",
    "plt.style.use('ggplot')\n",
    "import seaborn as sns\n",
    "\n",
    "import numpy as np\n",
    "from tqdm.auto import tqdm\n",
    "\n",
    "from scipy import stats\n",
    "import pandahouse as ph"
   ]
  },
  {
   "cell_type": "markdown",
   "id": "73cb8d8e-8e5d-4eb2-a423-32784a5b2d54",
   "metadata": {},
   "source": [
    "Напрямую считать файл по ссылке не удается, добавим некоторый функционал, для удобства обернем в функцию:"
   ]
  },
  {
   "cell_type": "code",
   "execution_count": 2,
   "id": "b16ca719-ad6f-4c9e-b76e-072c45249b5e",
   "metadata": {},
   "outputs": [],
   "source": [
    "def get_yandex(link: str) -> str:\n",
    "    # используем api \n",
    "    base_url = 'https://cloud-api.yandex.net/v1/disk/public/resources/download?'\n",
    "\n",
    "    # получаем url \n",
    "    final_url = base_url + urlencode(dict(public_key = link)) \n",
    "    response = requests.get(final_url) \n",
    "    download_url = response.json()['href'] \n",
    "    return download_url"
   ]
  },
  {
   "cell_type": "markdown",
   "id": "21dc78d0-c7d8-4140-bd87-cf54ef69b818",
   "metadata": {},
   "source": [
    "Теперь получаем данные:"
   ]
  },
  {
   "cell_type": "code",
   "execution_count": 3,
   "id": "3290c275-68df-44d3-937b-2ea8fe677f25",
   "metadata": {},
   "outputs": [],
   "source": [
    "groups       = pd.read_csv(get_yandex('https://disk.yandex.ru/d/58Us0DWOzuWAjg'), sep=';')\n",
    "groups_add   = pd.read_csv(get_yandex('https://disk.yandex.ru/d/3aARY-P9pfaksg'), sep=',')\n",
    "active_studs = pd.read_csv(get_yandex('https://disk.yandex.ru/d/prbgU-rZpiXVYg'), sep=';')\n",
    "checks       = pd.read_csv(get_yandex('https://disk.yandex.ru/d/84hTmELphW2sqQ'), sep=';')"
   ]
  },
  {
   "cell_type": "markdown",
   "id": "8cf50540-6d46-4727-a960-fb2392565e26",
   "metadata": {},
   "source": [
    "Смотрим на данные, которые получили:"
   ]
  },
  {
   "cell_type": "code",
   "execution_count": 4,
   "id": "05cb14aa-6b55-4ae3-9f4c-8688dd1646ca",
   "metadata": {},
   "outputs": [
    {
     "data": {
      "text/html": [
       "<div>\n",
       "<style scoped>\n",
       "    .dataframe tbody tr th:only-of-type {\n",
       "        vertical-align: middle;\n",
       "    }\n",
       "\n",
       "    .dataframe tbody tr th {\n",
       "        vertical-align: top;\n",
       "    }\n",
       "\n",
       "    .dataframe thead th {\n",
       "        text-align: right;\n",
       "    }\n",
       "</style>\n",
       "<table border=\"1\" class=\"dataframe\">\n",
       "  <thead>\n",
       "    <tr style=\"text-align: right;\">\n",
       "      <th></th>\n",
       "      <th>id</th>\n",
       "      <th>grp</th>\n",
       "    </tr>\n",
       "  </thead>\n",
       "  <tbody>\n",
       "    <tr>\n",
       "      <th>0</th>\n",
       "      <td>1489</td>\n",
       "      <td>B</td>\n",
       "    </tr>\n",
       "    <tr>\n",
       "      <th>1</th>\n",
       "      <td>1627</td>\n",
       "      <td>A</td>\n",
       "    </tr>\n",
       "    <tr>\n",
       "      <th>2</th>\n",
       "      <td>1768</td>\n",
       "      <td>B</td>\n",
       "    </tr>\n",
       "    <tr>\n",
       "      <th>3</th>\n",
       "      <td>1783</td>\n",
       "      <td>B</td>\n",
       "    </tr>\n",
       "    <tr>\n",
       "      <th>4</th>\n",
       "      <td>1794</td>\n",
       "      <td>A</td>\n",
       "    </tr>\n",
       "  </tbody>\n",
       "</table>\n",
       "</div>"
      ],
      "text/plain": [
       "     id grp\n",
       "0  1489   B\n",
       "1  1627   A\n",
       "2  1768   B\n",
       "3  1783   B\n",
       "4  1794   A"
      ]
     },
     "execution_count": 4,
     "metadata": {},
     "output_type": "execute_result"
    }
   ],
   "source": [
    "groups.head()"
   ]
  },
  {
   "cell_type": "code",
   "execution_count": 5,
   "id": "e1590842-bb2d-49fe-b66b-90a197c7653e",
   "metadata": {},
   "outputs": [
    {
     "data": {
      "text/plain": [
       "id      int64\n",
       "grp    object\n",
       "dtype: object"
      ]
     },
     "execution_count": 5,
     "metadata": {},
     "output_type": "execute_result"
    }
   ],
   "source": [
    "groups.dtypes"
   ]
  },
  {
   "cell_type": "code",
   "execution_count": 6,
   "id": "1e456e3a-5f8b-4913-b441-94f6cee4931e",
   "metadata": {},
   "outputs": [
    {
     "data": {
      "text/plain": [
       "74484"
      ]
     },
     "execution_count": 6,
     "metadata": {},
     "output_type": "execute_result"
    }
   ],
   "source": [
    "groups.shape[0]"
   ]
  },
  {
   "cell_type": "code",
   "execution_count": 7,
   "id": "373c161e-79e1-4c36-91c1-8c8ac63fb13b",
   "metadata": {
    "tags": []
   },
   "outputs": [
    {
     "data": {
      "text/plain": [
       "id     74484\n",
       "grp        2\n",
       "dtype: int64"
      ]
     },
     "execution_count": 7,
     "metadata": {},
     "output_type": "execute_result"
    }
   ],
   "source": [
    "groups.nunique()"
   ]
  },
  {
   "cell_type": "markdown",
   "id": "ef210c3a-4ca3-4ad7-9a95-9cb8c104075f",
   "metadata": {},
   "source": [
    "Значит, все ```id``` уникальны, в ```grp``` представлены два значения. Проверим на пустые значения:"
   ]
  },
  {
   "cell_type": "code",
   "execution_count": 8,
   "id": "7bca3e02-e8f0-4de5-b4b1-cccf36152882",
   "metadata": {},
   "outputs": [
    {
     "data": {
      "text/plain": [
       "id     0\n",
       "grp    0\n",
       "dtype: int64"
      ]
     },
     "execution_count": 8,
     "metadata": {},
     "output_type": "execute_result"
    }
   ],
   "source": [
    "groups.isna().sum()"
   ]
  },
  {
   "cell_type": "code",
   "execution_count": 9,
   "id": "d2b0a340-1daa-481f-b6fb-79f3afac6ced",
   "metadata": {},
   "outputs": [
    {
     "data": {
      "text/plain": [
       "B    59813\n",
       "A    14671\n",
       "Name: grp, dtype: int64"
      ]
     },
     "execution_count": 9,
     "metadata": {},
     "output_type": "execute_result"
    }
   ],
   "source": [
    "groups.grp.value_counts()"
   ]
  },
  {
   "cell_type": "markdown",
   "id": "3992a1ec-3012-47f6-b72e-8082bda25994",
   "metadata": {},
   "source": [
    "Аналогично, ```groups_add```:"
   ]
  },
  {
   "cell_type": "code",
   "execution_count": 10,
   "id": "6ac6deca-3c5b-475c-9a4b-c71f4541f23b",
   "metadata": {},
   "outputs": [
    {
     "data": {
      "text/html": [
       "<div>\n",
       "<style scoped>\n",
       "    .dataframe tbody tr th:only-of-type {\n",
       "        vertical-align: middle;\n",
       "    }\n",
       "\n",
       "    .dataframe tbody tr th {\n",
       "        vertical-align: top;\n",
       "    }\n",
       "\n",
       "    .dataframe thead th {\n",
       "        text-align: right;\n",
       "    }\n",
       "</style>\n",
       "<table border=\"1\" class=\"dataframe\">\n",
       "  <thead>\n",
       "    <tr style=\"text-align: right;\">\n",
       "      <th></th>\n",
       "      <th>id</th>\n",
       "      <th>grp</th>\n",
       "    </tr>\n",
       "  </thead>\n",
       "  <tbody>\n",
       "    <tr>\n",
       "      <th>0</th>\n",
       "      <td>5694584</td>\n",
       "      <td>B</td>\n",
       "    </tr>\n",
       "    <tr>\n",
       "      <th>1</th>\n",
       "      <td>5694830</td>\n",
       "      <td>B</td>\n",
       "    </tr>\n",
       "    <tr>\n",
       "      <th>2</th>\n",
       "      <td>5695057</td>\n",
       "      <td>B</td>\n",
       "    </tr>\n",
       "    <tr>\n",
       "      <th>3</th>\n",
       "      <td>5698872</td>\n",
       "      <td>B</td>\n",
       "    </tr>\n",
       "    <tr>\n",
       "      <th>4</th>\n",
       "      <td>5699067</td>\n",
       "      <td>B</td>\n",
       "    </tr>\n",
       "  </tbody>\n",
       "</table>\n",
       "</div>"
      ],
      "text/plain": [
       "        id grp\n",
       "0  5694584   B\n",
       "1  5694830   B\n",
       "2  5695057   B\n",
       "3  5698872   B\n",
       "4  5699067   B"
      ]
     },
     "execution_count": 10,
     "metadata": {},
     "output_type": "execute_result"
    }
   ],
   "source": [
    "groups_add.head()"
   ]
  },
  {
   "cell_type": "code",
   "execution_count": 11,
   "id": "8b479a72-69d6-46d0-98cd-7f683df1ed66",
   "metadata": {},
   "outputs": [
    {
     "data": {
      "text/plain": [
       "id      int64\n",
       "grp    object\n",
       "dtype: object"
      ]
     },
     "execution_count": 11,
     "metadata": {},
     "output_type": "execute_result"
    }
   ],
   "source": [
    "groups_add.dtypes"
   ]
  },
  {
   "cell_type": "code",
   "execution_count": 12,
   "id": "37d37da9-0097-49d5-a80b-9ce6c0ab89af",
   "metadata": {},
   "outputs": [
    {
     "data": {
      "text/plain": [
       "92"
      ]
     },
     "execution_count": 12,
     "metadata": {},
     "output_type": "execute_result"
    }
   ],
   "source": [
    "groups_add.shape[0]"
   ]
  },
  {
   "cell_type": "code",
   "execution_count": 13,
   "id": "5a5b9d14-9c24-4867-8a78-5692d6c83465",
   "metadata": {},
   "outputs": [
    {
     "data": {
      "text/plain": [
       "id     92\n",
       "grp     2\n",
       "dtype: int64"
      ]
     },
     "execution_count": 13,
     "metadata": {},
     "output_type": "execute_result"
    }
   ],
   "source": [
    "groups_add.nunique()"
   ]
  },
  {
   "cell_type": "code",
   "execution_count": 14,
   "id": "3f8460b9-f347-4779-8e46-2ca5eb5329fc",
   "metadata": {},
   "outputs": [
    {
     "data": {
      "text/plain": [
       "id     0\n",
       "grp    0\n",
       "dtype: int64"
      ]
     },
     "execution_count": 14,
     "metadata": {},
     "output_type": "execute_result"
    }
   ],
   "source": [
    "groups_add.isna().sum()"
   ]
  },
  {
   "cell_type": "code",
   "execution_count": 15,
   "id": "b0d90db1-659b-4999-9664-b615ac55ef65",
   "metadata": {},
   "outputs": [
    {
     "data": {
      "text/plain": [
       "B    70\n",
       "A    22\n",
       "Name: grp, dtype: int64"
      ]
     },
     "execution_count": 15,
     "metadata": {},
     "output_type": "execute_result"
    }
   ],
   "source": [
    "groups_add.grp.value_counts()"
   ]
  },
  {
   "cell_type": "markdown",
   "id": "e3a5d9e2-6d05-4c1b-9e4b-685d7c708d29",
   "metadata": {},
   "source": [
    "```checks```:"
   ]
  },
  {
   "cell_type": "code",
   "execution_count": 16,
   "id": "9ea3b303-1569-4c0f-8846-2af85d0b6f0b",
   "metadata": {},
   "outputs": [
    {
     "data": {
      "text/html": [
       "<div>\n",
       "<style scoped>\n",
       "    .dataframe tbody tr th:only-of-type {\n",
       "        vertical-align: middle;\n",
       "    }\n",
       "\n",
       "    .dataframe tbody tr th {\n",
       "        vertical-align: top;\n",
       "    }\n",
       "\n",
       "    .dataframe thead th {\n",
       "        text-align: right;\n",
       "    }\n",
       "</style>\n",
       "<table border=\"1\" class=\"dataframe\">\n",
       "  <thead>\n",
       "    <tr style=\"text-align: right;\">\n",
       "      <th></th>\n",
       "      <th>student_id</th>\n",
       "      <th>rev</th>\n",
       "    </tr>\n",
       "  </thead>\n",
       "  <tbody>\n",
       "    <tr>\n",
       "      <th>0</th>\n",
       "      <td>1627</td>\n",
       "      <td>990.0</td>\n",
       "    </tr>\n",
       "    <tr>\n",
       "      <th>1</th>\n",
       "      <td>3185</td>\n",
       "      <td>690.0</td>\n",
       "    </tr>\n",
       "    <tr>\n",
       "      <th>2</th>\n",
       "      <td>25973</td>\n",
       "      <td>690.0</td>\n",
       "    </tr>\n",
       "    <tr>\n",
       "      <th>3</th>\n",
       "      <td>26280</td>\n",
       "      <td>690.0</td>\n",
       "    </tr>\n",
       "    <tr>\n",
       "      <th>4</th>\n",
       "      <td>100300</td>\n",
       "      <td>990.0</td>\n",
       "    </tr>\n",
       "  </tbody>\n",
       "</table>\n",
       "</div>"
      ],
      "text/plain": [
       "   student_id    rev\n",
       "0        1627  990.0\n",
       "1        3185  690.0\n",
       "2       25973  690.0\n",
       "3       26280  690.0\n",
       "4      100300  990.0"
      ]
     },
     "execution_count": 16,
     "metadata": {},
     "output_type": "execute_result"
    }
   ],
   "source": [
    "checks.head()"
   ]
  },
  {
   "cell_type": "code",
   "execution_count": 17,
   "id": "f1f210b7-cd31-43aa-8f94-687ee2f3eadd",
   "metadata": {},
   "outputs": [
    {
     "data": {
      "text/plain": [
       "student_id      int64\n",
       "rev           float64\n",
       "dtype: object"
      ]
     },
     "execution_count": 17,
     "metadata": {},
     "output_type": "execute_result"
    }
   ],
   "source": [
    "checks.dtypes"
   ]
  },
  {
   "cell_type": "code",
   "execution_count": 18,
   "id": "a77a44ea-6a83-4555-abc5-78ec28faa586",
   "metadata": {},
   "outputs": [
    {
     "data": {
      "text/plain": [
       "541"
      ]
     },
     "execution_count": 18,
     "metadata": {},
     "output_type": "execute_result"
    }
   ],
   "source": [
    "checks.shape[0]"
   ]
  },
  {
   "cell_type": "code",
   "execution_count": 19,
   "id": "8b2cb82c-21a3-4eab-897b-e25b5a25e6a9",
   "metadata": {},
   "outputs": [
    {
     "data": {
      "text/plain": [
       "student_id    541\n",
       "rev            39\n",
       "dtype: int64"
      ]
     },
     "execution_count": 19,
     "metadata": {},
     "output_type": "execute_result"
    }
   ],
   "source": [
    "checks.nunique()"
   ]
  },
  {
   "cell_type": "code",
   "execution_count": 20,
   "id": "419275d6-d0ce-4fb9-847b-bdbbc51c5bde",
   "metadata": {},
   "outputs": [
    {
     "data": {
      "text/plain": [
       "student_id    0\n",
       "rev           0\n",
       "dtype: int64"
      ]
     },
     "execution_count": 20,
     "metadata": {},
     "output_type": "execute_result"
    }
   ],
   "source": [
    "checks.isna().sum()"
   ]
  },
  {
   "cell_type": "code",
   "execution_count": 21,
   "id": "f4335dc8-63f5-455c-94b6-953531f56a93",
   "metadata": {},
   "outputs": [
    {
     "data": {
      "text/plain": [
       "count     541.000000\n",
       "mean     1059.752317\n",
       "std       762.712359\n",
       "min       199.000000\n",
       "25%       290.000000\n",
       "50%       840.000000\n",
       "75%      1900.000000\n",
       "max      4650.000000\n",
       "Name: rev, dtype: float64"
      ]
     },
     "execution_count": 21,
     "metadata": {},
     "output_type": "execute_result"
    }
   ],
   "source": [
    "checks.rev.describe()"
   ]
  },
  {
   "cell_type": "markdown",
   "id": "46c3a352-9b0b-42cd-b91f-703ffc6ee12f",
   "metadata": {},
   "source": [
    "```active_studs```:"
   ]
  },
  {
   "cell_type": "code",
   "execution_count": 22,
   "id": "f49979df-30ca-43f0-9619-b9a2265d1c32",
   "metadata": {},
   "outputs": [
    {
     "data": {
      "text/html": [
       "<div>\n",
       "<style scoped>\n",
       "    .dataframe tbody tr th:only-of-type {\n",
       "        vertical-align: middle;\n",
       "    }\n",
       "\n",
       "    .dataframe tbody tr th {\n",
       "        vertical-align: top;\n",
       "    }\n",
       "\n",
       "    .dataframe thead th {\n",
       "        text-align: right;\n",
       "    }\n",
       "</style>\n",
       "<table border=\"1\" class=\"dataframe\">\n",
       "  <thead>\n",
       "    <tr style=\"text-align: right;\">\n",
       "      <th></th>\n",
       "      <th>student_id</th>\n",
       "    </tr>\n",
       "  </thead>\n",
       "  <tbody>\n",
       "    <tr>\n",
       "      <th>0</th>\n",
       "      <td>581585</td>\n",
       "    </tr>\n",
       "    <tr>\n",
       "      <th>1</th>\n",
       "      <td>5723133</td>\n",
       "    </tr>\n",
       "    <tr>\n",
       "      <th>2</th>\n",
       "      <td>3276743</td>\n",
       "    </tr>\n",
       "    <tr>\n",
       "      <th>3</th>\n",
       "      <td>4238589</td>\n",
       "    </tr>\n",
       "    <tr>\n",
       "      <th>4</th>\n",
       "      <td>4475369</td>\n",
       "    </tr>\n",
       "  </tbody>\n",
       "</table>\n",
       "</div>"
      ],
      "text/plain": [
       "   student_id\n",
       "0      581585\n",
       "1     5723133\n",
       "2     3276743\n",
       "3     4238589\n",
       "4     4475369"
      ]
     },
     "execution_count": 22,
     "metadata": {},
     "output_type": "execute_result"
    }
   ],
   "source": [
    "active_studs.head()"
   ]
  },
  {
   "cell_type": "code",
   "execution_count": 23,
   "id": "f7952b33-d4ca-477f-8ac5-1e6a9e75c315",
   "metadata": {},
   "outputs": [
    {
     "data": {
      "text/plain": [
       "8341"
      ]
     },
     "execution_count": 23,
     "metadata": {},
     "output_type": "execute_result"
    }
   ],
   "source": [
    "active_studs.shape[0]"
   ]
  },
  {
   "cell_type": "code",
   "execution_count": 24,
   "id": "5c87d1c0-fdab-45ae-bad2-9f70b6f830dd",
   "metadata": {},
   "outputs": [
    {
     "data": {
      "text/plain": [
       "student_id    8341\n",
       "dtype: int64"
      ]
     },
     "execution_count": 24,
     "metadata": {},
     "output_type": "execute_result"
    }
   ],
   "source": [
    "active_studs.nunique()"
   ]
  },
  {
   "cell_type": "code",
   "execution_count": 25,
   "id": "5f6c56e8-181d-4630-93f8-2c1cac4ec8d1",
   "metadata": {},
   "outputs": [
    {
     "data": {
      "text/plain": [
       "student_id    0\n",
       "dtype: int64"
      ]
     },
     "execution_count": 25,
     "metadata": {},
     "output_type": "execute_result"
    }
   ],
   "source": [
    "active_studs.isna().sum()"
   ]
  },
  {
   "cell_type": "markdown",
   "id": "815a49ab-ee92-4c85-b45b-6c3c1795edff",
   "metadata": {},
   "source": [
    "В ```groups``` хранится информация о принадлежности пользователя к контрольной или экспериментальной группе, а в ```groups_add``` - дополнительные данные спустя 2 дня. Соединим данные c первым датафреймом:"
   ]
  },
  {
   "cell_type": "code",
   "execution_count": 26,
   "id": "fcb979c4-0166-4e10-953c-eccb50254d86",
   "metadata": {},
   "outputs": [],
   "source": [
    "groups_all = pd.concat([groups, groups_add], axis=0)"
   ]
  },
  {
   "cell_type": "code",
   "execution_count": 27,
   "id": "c33cd30e-827a-4c84-af92-13548b02b2e2",
   "metadata": {},
   "outputs": [
    {
     "data": {
      "text/plain": [
       "74576"
      ]
     },
     "execution_count": 27,
     "metadata": {},
     "output_type": "execute_result"
    }
   ],
   "source": [
    "groups_all.shape[0]"
   ]
  },
  {
   "cell_type": "markdown",
   "id": "741e13ed-67c8-45ef-b060-5e18c40c2971",
   "metadata": {},
   "source": [
    "Теперь в полученном датафрейме хранится информация о всех пользователях, участвующих в эксперименте, но необходимо определить, сколько из них были активны:"
   ]
  },
  {
   "cell_type": "code",
   "execution_count": 28,
   "id": "89e0cea7-0a59-4a0c-870c-975ec6985e6f",
   "metadata": {},
   "outputs": [
    {
     "data": {
      "text/plain": [
       "8341"
      ]
     },
     "execution_count": 28,
     "metadata": {},
     "output_type": "execute_result"
    }
   ],
   "source": [
    "groups_all.loc[groups_all.id.isin(active_studs.student_id)].shape[0]"
   ]
  },
  {
   "cell_type": "code",
   "execution_count": 29,
   "id": "dda0e473-c48a-46a8-b240-93a3f6b5f0b8",
   "metadata": {},
   "outputs": [
    {
     "data": {
      "text/plain": [
       "id     8341\n",
       "grp       2\n",
       "dtype: int64"
      ]
     },
     "execution_count": 29,
     "metadata": {},
     "output_type": "execute_result"
    }
   ],
   "source": [
    "groups_all.loc[groups_all.id.isin(active_studs.student_id)].nunique()"
   ]
  },
  {
   "cell_type": "markdown",
   "id": "44be38cb-995f-41ae-a0b8-0c38b23d7d08",
   "metadata": {},
   "source": [
    "Cоответственно, только 8341 пользователь был активен во время эксперимента. Сохраним информацию о них в отдельный датафрейм:"
   ]
  },
  {
   "cell_type": "code",
   "execution_count": 30,
   "id": "6c42e576-5cfb-4bdf-920b-33b3ad15a6b9",
   "metadata": {},
   "outputs": [],
   "source": [
    "active_from_groups = groups_all.loc[groups_all.id.isin(active_studs.student_id)]"
   ]
  },
  {
   "cell_type": "markdown",
   "id": "3cf2630b-7a23-4bcb-b980-ce2d656608ef",
   "metadata": {},
   "source": [
    "В ```checks``` информация об оплатах пользователей в дни проведения эксперимента:"
   ]
  },
  {
   "cell_type": "code",
   "execution_count": 31,
   "id": "683c5b69-7644-458f-a398-6f1bc70d983f",
   "metadata": {},
   "outputs": [
    {
     "data": {
      "text/html": [
       "<div>\n",
       "<style scoped>\n",
       "    .dataframe tbody tr th:only-of-type {\n",
       "        vertical-align: middle;\n",
       "    }\n",
       "\n",
       "    .dataframe tbody tr th {\n",
       "        vertical-align: top;\n",
       "    }\n",
       "\n",
       "    .dataframe thead th {\n",
       "        text-align: right;\n",
       "    }\n",
       "</style>\n",
       "<table border=\"1\" class=\"dataframe\">\n",
       "  <thead>\n",
       "    <tr style=\"text-align: right;\">\n",
       "      <th></th>\n",
       "      <th>student_id</th>\n",
       "      <th>rev</th>\n",
       "    </tr>\n",
       "  </thead>\n",
       "  <tbody>\n",
       "    <tr>\n",
       "      <th>0</th>\n",
       "      <td>1627</td>\n",
       "      <td>990.0</td>\n",
       "    </tr>\n",
       "    <tr>\n",
       "      <th>1</th>\n",
       "      <td>3185</td>\n",
       "      <td>690.0</td>\n",
       "    </tr>\n",
       "    <tr>\n",
       "      <th>2</th>\n",
       "      <td>25973</td>\n",
       "      <td>690.0</td>\n",
       "    </tr>\n",
       "    <tr>\n",
       "      <th>3</th>\n",
       "      <td>26280</td>\n",
       "      <td>690.0</td>\n",
       "    </tr>\n",
       "    <tr>\n",
       "      <th>4</th>\n",
       "      <td>100300</td>\n",
       "      <td>990.0</td>\n",
       "    </tr>\n",
       "  </tbody>\n",
       "</table>\n",
       "</div>"
      ],
      "text/plain": [
       "   student_id    rev\n",
       "0        1627  990.0\n",
       "1        3185  690.0\n",
       "2       25973  690.0\n",
       "3       26280  690.0\n",
       "4      100300  990.0"
      ]
     },
     "execution_count": 31,
     "metadata": {},
     "output_type": "execute_result"
    }
   ],
   "source": [
    "checks.head()"
   ]
  },
  {
   "cell_type": "code",
   "execution_count": 32,
   "id": "8a79d787-5af5-4aae-b4c7-884cde8a894b",
   "metadata": {},
   "outputs": [
    {
     "data": {
      "text/plain": [
       "(541, 8341)"
      ]
     },
     "execution_count": 32,
     "metadata": {},
     "output_type": "execute_result"
    }
   ],
   "source": [
    "checks.student_id.nunique(), active_from_groups.id.nunique()"
   ]
  },
  {
   "cell_type": "markdown",
   "id": "3d9b6110-0780-49de-8ea5-5af0a08b9758",
   "metadata": {},
   "source": [
    "Количество пользователей значительно превышает количество оплат. Из пользователей, участвующих в эксперименте, совершили оплату:  "
   ]
  },
  {
   "cell_type": "code",
   "execution_count": 33,
   "id": "dc711c27-e123-438d-89bf-87792218846b",
   "metadata": {},
   "outputs": [
    {
     "data": {
      "text/plain": [
       "392"
      ]
     },
     "execution_count": 33,
     "metadata": {},
     "output_type": "execute_result"
    }
   ],
   "source": [
    "active_from_groups.loc[active_from_groups.id.isin(checks.student_id)].shape[0]"
   ]
  },
  {
   "cell_type": "markdown",
   "id": "bd3575ad-dbc0-4206-8e8e-8c175e96fd53",
   "metadata": {},
   "source": [
    "C другой стороны, остались пользователи, которые совершили оплату во время эксперимента, но при этом не участвовали в эксперименте:"
   ]
  },
  {
   "cell_type": "code",
   "execution_count": 34,
   "id": "56fdd337-3b76-479a-a028-06fe29c325a5",
   "metadata": {},
   "outputs": [
    {
     "data": {
      "text/plain": [
       "149"
      ]
     },
     "execution_count": 34,
     "metadata": {},
     "output_type": "execute_result"
    }
   ],
   "source": [
    "checks.student_id.nunique() - active_from_groups.loc[active_from_groups.id.isin(checks.student_id)].shape[0]"
   ]
  },
  {
   "cell_type": "markdown",
   "id": "355874ed-0b92-40de-9606-100fdddab4d2",
   "metadata": {},
   "source": [
    "Иначе:"
   ]
  },
  {
   "cell_type": "code",
   "execution_count": 35,
   "id": "212583e7-aabf-4832-962e-0f2c7aff60cc",
   "metadata": {},
   "outputs": [
    {
     "data": {
      "text/plain": [
       "149"
      ]
     },
     "execution_count": 35,
     "metadata": {},
     "output_type": "execute_result"
    }
   ],
   "source": [
    "checks.loc[~checks.student_id.isin(active_from_groups.id)].shape[0]"
   ]
  },
  {
   "cell_type": "code",
   "execution_count": 36,
   "id": "85aa5abc-2bd4-4b76-9b6d-f364074bbaff",
   "metadata": {},
   "outputs": [
    {
     "data": {
      "text/plain": [
       "149"
      ]
     },
     "execution_count": 36,
     "metadata": {},
     "output_type": "execute_result"
    }
   ],
   "source": [
    "groups_all.loc[groups_all.id.isin(checks.loc[~checks.student_id.isin(active_from_groups.id)].student_id)].shape[0]"
   ]
  },
  {
   "cell_type": "markdown",
   "id": "da65f85b-5b4d-4052-b308-4a217fccde0a",
   "metadata": {},
   "source": [
    "В итоге сложилась ситуация, когда во время эксперимента были 149 оплаты, однако ```id``` пользователей, кто оплатил, нет среди активных. Это могло возникнуть как в следствие ошибок при записи данных, так и при ошибках во время оплаты, ошибках во время формирования выборки для эксперимента. Если бы в данных была информация о статусе оплаты с соответстующими ```timestamp```, картина стала бы более ясной. \n",
    "\n",
    "Для дальнейшей работы с данными отберем пользователей, которые включены в эксперимент и активны во время эксперимента, чтобы дать наиболее точную оценку эксперимента и минимизировать количество ошибок."
   ]
  },
  {
   "cell_type": "markdown",
   "id": "a041ab2c-5415-4a59-859e-ff27e8e6a8d7",
   "metadata": {},
   "source": [
    "Собираем все в один датафрейм, используем ```left join```:"
   ]
  },
  {
   "cell_type": "code",
   "execution_count": 37,
   "id": "ae9399b5-081f-40eb-9038-835451b06615",
   "metadata": {},
   "outputs": [],
   "source": [
    "checks.columns = ['id', 'rev']\n",
    "df = active_from_groups.merge(checks, how='left', on='id')"
   ]
  },
  {
   "cell_type": "code",
   "execution_count": 38,
   "id": "5e6d83a8-fb1f-4eff-aead-e0d29cde8e17",
   "metadata": {},
   "outputs": [
    {
     "data": {
      "text/html": [
       "<div>\n",
       "<style scoped>\n",
       "    .dataframe tbody tr th:only-of-type {\n",
       "        vertical-align: middle;\n",
       "    }\n",
       "\n",
       "    .dataframe tbody tr th {\n",
       "        vertical-align: top;\n",
       "    }\n",
       "\n",
       "    .dataframe thead th {\n",
       "        text-align: right;\n",
       "    }\n",
       "</style>\n",
       "<table border=\"1\" class=\"dataframe\">\n",
       "  <thead>\n",
       "    <tr style=\"text-align: right;\">\n",
       "      <th></th>\n",
       "      <th>id</th>\n",
       "      <th>grp</th>\n",
       "      <th>rev</th>\n",
       "    </tr>\n",
       "  </thead>\n",
       "  <tbody>\n",
       "    <tr>\n",
       "      <th>0</th>\n",
       "      <td>1627</td>\n",
       "      <td>A</td>\n",
       "      <td>990.0</td>\n",
       "    </tr>\n",
       "    <tr>\n",
       "      <th>1</th>\n",
       "      <td>2085</td>\n",
       "      <td>B</td>\n",
       "      <td>NaN</td>\n",
       "    </tr>\n",
       "    <tr>\n",
       "      <th>2</th>\n",
       "      <td>2215</td>\n",
       "      <td>B</td>\n",
       "      <td>NaN</td>\n",
       "    </tr>\n",
       "    <tr>\n",
       "      <th>3</th>\n",
       "      <td>3391</td>\n",
       "      <td>A</td>\n",
       "      <td>NaN</td>\n",
       "    </tr>\n",
       "    <tr>\n",
       "      <th>4</th>\n",
       "      <td>3401</td>\n",
       "      <td>B</td>\n",
       "      <td>NaN</td>\n",
       "    </tr>\n",
       "  </tbody>\n",
       "</table>\n",
       "</div>"
      ],
      "text/plain": [
       "     id grp    rev\n",
       "0  1627   A  990.0\n",
       "1  2085   B    NaN\n",
       "2  2215   B    NaN\n",
       "3  3391   A    NaN\n",
       "4  3401   B    NaN"
      ]
     },
     "execution_count": 38,
     "metadata": {},
     "output_type": "execute_result"
    }
   ],
   "source": [
    "df.head()"
   ]
  },
  {
   "cell_type": "code",
   "execution_count": 39,
   "id": "4d6614e8-3799-4cb9-bc87-9e8c2c96c087",
   "metadata": {
    "tags": []
   },
   "outputs": [
    {
     "data": {
      "text/plain": [
       "(8341, 3)"
      ]
     },
     "execution_count": 39,
     "metadata": {},
     "output_type": "execute_result"
    }
   ],
   "source": [
    "df.shape"
   ]
  },
  {
   "cell_type": "markdown",
   "id": "1f96827e-5699-4d4c-85cd-a7673e4d80c4",
   "metadata": {},
   "source": [
    "Посчитаем количество пустых значений после джойна:"
   ]
  },
  {
   "cell_type": "code",
   "execution_count": 40,
   "id": "67ee8c2f-0a2a-4c8b-98c3-1c417ccf5a06",
   "metadata": {},
   "outputs": [
    {
     "data": {
      "text/plain": [
       "id        0\n",
       "grp       0\n",
       "rev    7949\n",
       "dtype: int64"
      ]
     },
     "execution_count": 40,
     "metadata": {},
     "output_type": "execute_result"
    }
   ],
   "source": [
    "df.isna().sum()"
   ]
  },
  {
   "cell_type": "code",
   "execution_count": 41,
   "id": "c78029fe-edef-4ad7-b640-73ab9ccc9119",
   "metadata": {},
   "outputs": [
    {
     "data": {
      "text/plain": [
       "B    6489\n",
       "A    1460\n",
       "Name: grp, dtype: int64"
      ]
     },
     "execution_count": 41,
     "metadata": {},
     "output_type": "execute_result"
    }
   ],
   "source": [
    "df.loc[df.rev.isna()].grp.value_counts()"
   ]
  },
  {
   "cell_type": "code",
   "execution_count": 42,
   "id": "257c8f02-f0ce-4c19-b69d-5a0962b3aa92",
   "metadata": {},
   "outputs": [
    {
     "data": {
      "text/plain": [
       "B    314\n",
       "A     78\n",
       "Name: grp, dtype: int64"
      ]
     },
     "execution_count": 42,
     "metadata": {},
     "output_type": "execute_result"
    }
   ],
   "source": [
    "df.loc[df.rev.notna()].grp.value_counts()"
   ]
  },
  {
   "cell_type": "markdown",
   "id": "71ecf8e6-4a4b-4dad-a298-c9535931fb78",
   "metadata": {},
   "source": [
    "Видно сразу, что отличается размер выборок, а так же в каждой группе малое количество пользователей, которые совершили оплату.\n",
    "\n",
    "Для анализа будем использовать следующие метрики:\n",
    "\n",
    "* конверсия в покупку \n",
    "* ARPPU\n",
    "* ARPU\n",
    "\n",
    "Начнем с конверсии. Для подсчета необходимо найти отношение количества оплативших пользователей на количество пользователей в группе:"
   ]
  },
  {
   "cell_type": "code",
   "execution_count": 43,
   "id": "29eef3eb-cefa-4206-b94d-067f58afb7a9",
   "metadata": {},
   "outputs": [
    {
     "data": {
      "text/html": [
       "<div>\n",
       "<style scoped>\n",
       "    .dataframe tbody tr th:only-of-type {\n",
       "        vertical-align: middle;\n",
       "    }\n",
       "\n",
       "    .dataframe tbody tr th {\n",
       "        vertical-align: top;\n",
       "    }\n",
       "\n",
       "    .dataframe thead th {\n",
       "        text-align: right;\n",
       "    }\n",
       "</style>\n",
       "<table border=\"1\" class=\"dataframe\">\n",
       "  <thead>\n",
       "    <tr style=\"text-align: right;\">\n",
       "      <th></th>\n",
       "      <th>group</th>\n",
       "      <th>users</th>\n",
       "      <th>purchases</th>\n",
       "      <th>CR</th>\n",
       "    </tr>\n",
       "  </thead>\n",
       "  <tbody>\n",
       "    <tr>\n",
       "      <th>0</th>\n",
       "      <td>A</td>\n",
       "      <td>1538</td>\n",
       "      <td>78</td>\n",
       "      <td>0.050715</td>\n",
       "    </tr>\n",
       "    <tr>\n",
       "      <th>1</th>\n",
       "      <td>B</td>\n",
       "      <td>6803</td>\n",
       "      <td>314</td>\n",
       "      <td>0.046156</td>\n",
       "    </tr>\n",
       "  </tbody>\n",
       "</table>\n",
       "</div>"
      ],
      "text/plain": [
       "  group  users  purchases        CR\n",
       "0     A   1538         78  0.050715\n",
       "1     B   6803        314  0.046156"
      ]
     },
     "execution_count": 43,
     "metadata": {},
     "output_type": "execute_result"
    }
   ],
   "source": [
    "metrics = df.groupby('grp', as_index=False) \\\n",
    "                 .agg({'id': 'count'}) \\\n",
    "                 .merge(df.query('rev > 0') \\\n",
    "                          .groupby('grp', as_index=False) \\\n",
    "                          .agg({'id': 'count'}), on='grp') \\\n",
    "                 .rename(columns={'grp': 'group', \n",
    "                                  'id_x': 'users', \n",
    "                                  'id_y': 'purchases'})\n",
    "metrics['CR'] = metrics.purchases / metrics.users\n",
    "metrics"
   ]
  },
  {
   "cell_type": "markdown",
   "id": "909e5ecd-a541-4f1c-a069-2ccc194c28d2",
   "metadata": {},
   "source": [
    "В А-группе (контрольная) конверсия выше.\n",
    "\n",
    "Средний чек:"
   ]
  },
  {
   "cell_type": "code",
   "execution_count": 44,
   "id": "0bcb506a-e04c-448b-af08-f3af4bf8ce58",
   "metadata": {},
   "outputs": [
    {
     "data": {
      "text/html": [
       "<div>\n",
       "<style scoped>\n",
       "    .dataframe tbody tr th:only-of-type {\n",
       "        vertical-align: middle;\n",
       "    }\n",
       "\n",
       "    .dataframe tbody tr th {\n",
       "        vertical-align: top;\n",
       "    }\n",
       "\n",
       "    .dataframe thead th {\n",
       "        text-align: right;\n",
       "    }\n",
       "</style>\n",
       "<table border=\"1\" class=\"dataframe\">\n",
       "  <thead>\n",
       "    <tr style=\"text-align: right;\">\n",
       "      <th></th>\n",
       "      <th>group</th>\n",
       "      <th>users</th>\n",
       "      <th>purchases</th>\n",
       "      <th>CR</th>\n",
       "      <th>revenue</th>\n",
       "      <th>ARPPU</th>\n",
       "    </tr>\n",
       "  </thead>\n",
       "  <tbody>\n",
       "    <tr>\n",
       "      <th>0</th>\n",
       "      <td>A</td>\n",
       "      <td>1538</td>\n",
       "      <td>78</td>\n",
       "      <td>0.050715</td>\n",
       "      <td>72820.0000</td>\n",
       "      <td>933.590</td>\n",
       "    </tr>\n",
       "    <tr>\n",
       "      <th>1</th>\n",
       "      <td>B</td>\n",
       "      <td>6803</td>\n",
       "      <td>314</td>\n",
       "      <td>0.046156</td>\n",
       "      <td>394974.0035</td>\n",
       "      <td>1257.879</td>\n",
       "    </tr>\n",
       "  </tbody>\n",
       "</table>\n",
       "</div>"
      ],
      "text/plain": [
       "  group  users  purchases        CR      revenue     ARPPU\n",
       "0     A   1538         78  0.050715   72820.0000   933.590\n",
       "1     B   6803        314  0.046156  394974.0035  1257.879"
      ]
     },
     "execution_count": 44,
     "metadata": {},
     "output_type": "execute_result"
    }
   ],
   "source": [
    "revenue = df.groupby('grp', as_index=False) \\\n",
    "            .agg({'rev': 'sum'}) \\\n",
    "            .rename(columns={'grp': 'group', \n",
    "                             'rev':'revenue'})\n",
    "\n",
    "metrics = metrics.merge(revenue, on='group')\n",
    "\n",
    "metrics['ARPPU'] = (metrics.revenue / metrics.purchases).round(3)\n",
    "\n",
    "metrics"
   ]
  },
  {
   "cell_type": "markdown",
   "id": "1f5a82d4-4f14-4e4a-bf13-1823e05d5829",
   "metadata": {},
   "source": [
    "ARPPU выше в группе В. В данном случае ARPPU будет равен среднему чек, так как в таблице ```checks``` все ```student_id``` были уникальными, следовательно, повторных покупок не было среди пользователей. \n",
    "\n",
    "Далее посчитаем ARPU, а точнее ARPAU, так как в обе группы мы отобрали только активных пользователей:"
   ]
  },
  {
   "cell_type": "code",
   "execution_count": 45,
   "id": "398367f2-0d7f-4961-aea5-c1484233c4a3",
   "metadata": {},
   "outputs": [
    {
     "data": {
      "text/html": [
       "<div>\n",
       "<style scoped>\n",
       "    .dataframe tbody tr th:only-of-type {\n",
       "        vertical-align: middle;\n",
       "    }\n",
       "\n",
       "    .dataframe tbody tr th {\n",
       "        vertical-align: top;\n",
       "    }\n",
       "\n",
       "    .dataframe thead th {\n",
       "        text-align: right;\n",
       "    }\n",
       "</style>\n",
       "<table border=\"1\" class=\"dataframe\">\n",
       "  <thead>\n",
       "    <tr style=\"text-align: right;\">\n",
       "      <th></th>\n",
       "      <th>group</th>\n",
       "      <th>users</th>\n",
       "      <th>purchases</th>\n",
       "      <th>CR</th>\n",
       "      <th>revenue</th>\n",
       "      <th>ARPPU</th>\n",
       "      <th>ARPAU</th>\n",
       "    </tr>\n",
       "  </thead>\n",
       "  <tbody>\n",
       "    <tr>\n",
       "      <th>0</th>\n",
       "      <td>A</td>\n",
       "      <td>1538</td>\n",
       "      <td>78</td>\n",
       "      <td>0.050715</td>\n",
       "      <td>72820.0000</td>\n",
       "      <td>933.590</td>\n",
       "      <td>47.347</td>\n",
       "    </tr>\n",
       "    <tr>\n",
       "      <th>1</th>\n",
       "      <td>B</td>\n",
       "      <td>6803</td>\n",
       "      <td>314</td>\n",
       "      <td>0.046156</td>\n",
       "      <td>394974.0035</td>\n",
       "      <td>1257.879</td>\n",
       "      <td>58.059</td>\n",
       "    </tr>\n",
       "  </tbody>\n",
       "</table>\n",
       "</div>"
      ],
      "text/plain": [
       "  group  users  purchases        CR      revenue     ARPPU   ARPAU\n",
       "0     A   1538         78  0.050715   72820.0000   933.590  47.347\n",
       "1     B   6803        314  0.046156  394974.0035  1257.879  58.059"
      ]
     },
     "execution_count": 45,
     "metadata": {},
     "output_type": "execute_result"
    }
   ],
   "source": [
    "metrics['ARPAU'] = (metrics.CR * metrics.ARPPU).round(3)\n",
    "metrics"
   ]
  },
  {
   "cell_type": "markdown",
   "id": "e319dafc-2022-4a7d-a2bf-3088606bd315",
   "metadata": {},
   "source": [
    "ARPAU, как и ARPPU, revenue в группе В выше, но необходмо определить, действительно ли есть различия с точки зрения статзначимости. Прежде всего проверим нормальность распределений, наличие выбросов, равенство дисперсий. \n",
    "\n",
    "Проводим тест Шапиро-Уилка:"
   ]
  },
  {
   "cell_type": "code",
   "execution_count": 46,
   "id": "33833ad4-4819-4de6-91fb-2a85fab67b41",
   "metadata": {},
   "outputs": [
    {
     "name": "stdout",
     "output_type": "stream",
     "text": [
      "Тест Шапиро-Уилка для 1 группы - p-value = 1.4986822893803264e-10: \n",
      "отклоняем H0, распределение не является нормальным\n",
      "\n",
      "Тест Шапиро-Уилка для 2 группы - p-value = 1.5437024585965894e-16: \n",
      "отклоняем H0, распределение не является нормальным\n",
      "\n"
     ]
    }
   ],
   "source": [
    "results = [stats.shapiro(df.query('rev > 0 & grp == \"A\"').rev).pvalue,\n",
    "           stats.shapiro(df.query('rev > 0 & grp == \"B\"').rev).pvalue]\n",
    "\n",
    "for i in range(len(results)):\n",
    "    print(f'Тест Шапиро-Уилка для {i+1} группы - p-value = {results[i]}: ')\n",
    "    if results[i] <= 0.05:\n",
    "        print('отклоняем H0, распределение не является нормальным\\n')\n",
    "    else:\n",
    "        print('не отклоняем H0, распределение нормальное\\n')"
   ]
  },
  {
   "cell_type": "markdown",
   "id": "d3c9118e-8b97-4b35-952b-7bea518bddd8",
   "metadata": {},
   "source": [
    "Распределение графически:"
   ]
  },
  {
   "cell_type": "code",
   "execution_count": 47,
   "id": "73ab3454-d499-4c0b-b9dc-885549718913",
   "metadata": {},
   "outputs": [
    {
     "data": {
      "image/png": "[encoded data removed]",
      "text/plain": [
       "<Figure size 432x288 with 1 Axes>"
      ]
     },
     "metadata": {},
     "output_type": "display_data"
    }
   ],
   "source": [
    "ax = sns.histplot(data=df.query('rev > 0 and grp == \"A\"'), x=\"rev\")"
   ]
  },
  {
   "cell_type": "code",
   "execution_count": 48,
   "id": "adfd45e6-22d9-47de-a38b-c09914129d2a",
   "metadata": {},
   "outputs": [
    {
     "data": {
      "text/plain": [
       "Text(0.5, 1.0, 'Group B')"
      ]
     },
     "execution_count": 48,
     "metadata": {},
     "output_type": "execute_result"
    },
    {
     "data": {
      "image/png": "[encoded data removed]",
      "text/plain": [
       "<Figure size 432x288 with 1 Axes>"
      ]
     },
     "metadata": {},
     "output_type": "display_data"
    }
   ],
   "source": [
    "ax = sns.histplot(data=df.query('rev > 0 and grp == \"B\"'), x=\"rev\")\n",
    "ax.set_title('Group B')"
   ]
  },
  {
   "cell_type": "markdown",
   "id": "eb079892-68eb-4098-8b76-ed548dee3544",
   "metadata": {},
   "source": [
    "Интересно, что на графике сразу же видно большое количество пользователей с оплатой в размере ~2000. Вопрос требует уточнения, особенно учитывая новую механику оплаты, вполне возможно, что произошел сбой либо при самой оплате, либо при сборе данных."
   ]
  },
  {
   "cell_type": "code",
   "execution_count": 49,
   "id": "f847b683-b180-4b7c-9f89-dfed937ea85e",
   "metadata": {},
   "outputs": [
    {
     "data": {
      "text/plain": [
       "134"
      ]
     },
     "execution_count": 49,
     "metadata": {},
     "output_type": "execute_result"
    }
   ],
   "source": [
    "df.query('1800 < rev < 2100 and grp == \"B\"').shape[0]"
   ]
  },
  {
   "cell_type": "markdown",
   "id": "8bd91d80-48ce-4de4-ab34-862e8c9df2f7",
   "metadata": {},
   "source": [
    "Наличие выбросов:"
   ]
  },
  {
   "cell_type": "code",
   "execution_count": 50,
   "id": "d14b6fa9-200f-4f07-b246-004c4e39e224",
   "metadata": {},
   "outputs": [
    {
     "data": {
      "text/html": [
       "<div>\n",
       "<style scoped>\n",
       "    .dataframe tbody tr th:only-of-type {\n",
       "        vertical-align: middle;\n",
       "    }\n",
       "\n",
       "    .dataframe tbody tr th {\n",
       "        vertical-align: top;\n",
       "    }\n",
       "\n",
       "    .dataframe thead tr th {\n",
       "        text-align: left;\n",
       "    }\n",
       "</style>\n",
       "<table border=\"1\" class=\"dataframe\">\n",
       "  <thead>\n",
       "    <tr>\n",
       "      <th></th>\n",
       "      <th>grp</th>\n",
       "      <th colspan=\"8\" halign=\"left\">rev</th>\n",
       "    </tr>\n",
       "    <tr>\n",
       "      <th></th>\n",
       "      <th></th>\n",
       "      <th>count</th>\n",
       "      <th>mean</th>\n",
       "      <th>std</th>\n",
       "      <th>min</th>\n",
       "      <th>25%</th>\n",
       "      <th>50%</th>\n",
       "      <th>75%</th>\n",
       "      <th>max</th>\n",
       "    </tr>\n",
       "  </thead>\n",
       "  <tbody>\n",
       "    <tr>\n",
       "      <th>0</th>\n",
       "      <td>A</td>\n",
       "      <td>78.0</td>\n",
       "      <td>933.589744</td>\n",
       "      <td>919.932711</td>\n",
       "      <td>199.0</td>\n",
       "      <td>290.00</td>\n",
       "      <td>585.0</td>\n",
       "      <td>1114.75</td>\n",
       "      <td>3660.0</td>\n",
       "    </tr>\n",
       "    <tr>\n",
       "      <th>1</th>\n",
       "      <td>B</td>\n",
       "      <td>314.0</td>\n",
       "      <td>1257.878992</td>\n",
       "      <td>790.864254</td>\n",
       "      <td>199.0</td>\n",
       "      <td>511.75</td>\n",
       "      <td>1140.0</td>\n",
       "      <td>1900.00</td>\n",
       "      <td>4650.0</td>\n",
       "    </tr>\n",
       "  </tbody>\n",
       "</table>\n",
       "</div>"
      ],
      "text/plain": [
       "  grp    rev                                                                 \n",
       "       count         mean         std    min     25%     50%      75%     max\n",
       "0   A   78.0   933.589744  919.932711  199.0  290.00   585.0  1114.75  3660.0\n",
       "1   B  314.0  1257.878992  790.864254  199.0  511.75  1140.0  1900.00  4650.0"
      ]
     },
     "execution_count": 50,
     "metadata": {},
     "output_type": "execute_result"
    }
   ],
   "source": [
    "df.query('rev > 0').groupby('grp', as_index=False).agg({'rev': 'describe'})"
   ]
  },
  {
   "cell_type": "markdown",
   "id": "25a8e912-5d60-491c-9f6d-d38982f4f99f",
   "metadata": {},
   "source": [
    "Вероятнее всего, имеются выбросы. Графически:"
   ]
  },
  {
   "cell_type": "code",
   "execution_count": 51,
   "id": "39c27f78-66e8-4627-beee-8e00a0f933cf",
   "metadata": {},
   "outputs": [
    {
     "data": {
      "text/plain": [
       "<AxesSubplot:xlabel='grp', ylabel='rev'>"
      ]
     },
     "execution_count": 51,
     "metadata": {},
     "output_type": "execute_result"
    },
    {
     "data": {
      "image/png": "[encoded data removed]",
      "text/plain": [
       "<Figure size 432x288 with 1 Axes>"
      ]
     },
     "metadata": {},
     "output_type": "display_data"
    }
   ],
   "source": [
    "sns.boxplot(data=df.query('rev>0'), x='grp', y='rev')"
   ]
  },
  {
   "cell_type": "markdown",
   "id": "5067ed44-8725-48ec-ad72-36b59421a116",
   "metadata": {},
   "source": [
    "Определяем гомогенность дисперсий при помощи теста Левена:"
   ]
  },
  {
   "cell_type": "code",
   "execution_count": 52,
   "id": "6490ab4d-87d8-47c0-8cf3-0339bc9aa984",
   "metadata": {},
   "outputs": [
    {
     "name": "stdout",
     "output_type": "stream",
     "text": [
      "Тест Левена - p-value = 0.08025675761347022: \n",
      "не отклоняем H0, дисперсии примерно одинаковы\n",
      "\n"
     ]
    }
   ],
   "source": [
    "result = stats.levene(df.query('rev > 0 & grp == \"A\"').rev,\n",
    "                      df.query('rev > 0 & grp == \"B\"').rev)\n",
    "\n",
    "print(f'Тест Левена - p-value = {result.pvalue}: ')\n",
    "if result.pvalue <= 0.05:\n",
    "    print('отклоняем H0, дисперсии отличаются\\n')\n",
    "else:\n",
    "    print('не отклоняем H0, дисперсии примерно одинаковы\\n')"
   ]
  },
  {
   "cell_type": "markdown",
   "id": "5c8e2eea-7fbb-461f-aa4a-8b8457706834",
   "metadata": {},
   "source": [
    "В итоге:\n",
    "\n",
    "* размеры выборок отличаются\n",
    "* обе выборки не имеют нормального распределения\n",
    "* в обеих выборках есть выбросы\n",
    "* дисперсии выборок примерно одинаковы\n",
    "\n",
    "В данной ситуации можно было бы использовать t-тест, так как размер выборок достаточно большой, хотя и распределения не являются нормальными. Тест на гомоскедастичность показывает примерное равенство дисперсий, но все же имеет не очень высокий p-value, что в теории может повысить вероятность ошибки I рода, так что выберем другой метод.\n",
    "\n",
    "Для данного случая можно применить U-критерий Манна-Уитни (непараметрический аналог t-критерия Стьюдента) или бутстрап. Остановимся на последнем, бутстрап проверяет статистические гипотезы без опоры на определённое теоретическое распределение данных (в отличие от классических статистических критериев), а для критерия Манна-Уитни хотя и имеются допустимые для проведения теста выбросы в данных, но все же размер выборок существенно отличается.\n",
    "\n",
    "Напишем функцию для бутстрап-анализа:"
   ]
  },
  {
   "cell_type": "code",
   "execution_count": 53,
   "id": "8b2ef281-89a9-43ce-9e0a-60a8ee6a57ee",
   "metadata": {},
   "outputs": [],
   "source": [
    "def get_bootstrap(\n",
    "    data_column_1, # числовые значения первой выборки\n",
    "    data_column_2, # числовые значения второй выборки\n",
    "    boot_it = 2000, # количество бутстрэп-подвыборок\n",
    "    statistic = np.mean, # интересующая нас статистика\n",
    "    bootstrap_conf_level = 0.95 # уровень значимости\n",
    "):\n",
    "    boot_len = max([len(data_column_1), len(data_column_2)])\n",
    "    boot_data = []\n",
    "    for i in tqdm(range(boot_it)): # извлекаем подвыборки\n",
    "        samples_1 = data_column_1.sample(\n",
    "            boot_len, \n",
    "            replace = True # параметр возвращения\n",
    "        ).values\n",
    "        \n",
    "        samples_2 = data_column_2.sample(\n",
    "            boot_len, \n",
    "            replace = True\n",
    "        ).values\n",
    "        \n",
    "        boot_data.append(statistic(samples_1)-statistic(samples_2)) # mean() - применяем статистику\n",
    "        \n",
    "    pd_boot_data = pd.DataFrame(boot_data)\n",
    "        \n",
    "    left_quant = (1 - bootstrap_conf_level)/2\n",
    "    right_quant = 1 - (1 - bootstrap_conf_level) / 2\n",
    "    quants = pd_boot_data.quantile([left_quant, right_quant])\n",
    "        \n",
    "    p_1 = stats.norm.cdf(\n",
    "        x = 0, \n",
    "        loc = np.mean(boot_data), \n",
    "        scale = np.std(boot_data)\n",
    "    )\n",
    "    p_2 = stats.norm.cdf(\n",
    "        x = 0, \n",
    "        loc = -np.mean(boot_data), \n",
    "        scale = np.std(boot_data)\n",
    "    )\n",
    "    p_value = min(p_1, p_2) * 2\n",
    "        \n",
    "    # Визуализация\n",
    "    _, _, bars = plt.hist(pd_boot_data[0], bins = 50)\n",
    "    for bar in bars:\n",
    "        if bar.get_x() <= quants.iloc[0][0] or bar.get_x() >= quants.iloc[1][0]:\n",
    "            bar.set_facecolor('red')\n",
    "        else: \n",
    "            bar.set_facecolor('grey')\n",
    "            bar.set_edgecolor('black')\n",
    "    \n",
    "    plt.style.use('ggplot')\n",
    "    plt.vlines(quants,ymin=0,ymax=50,linestyle='--')\n",
    "    plt.xlabel('boot_data')\n",
    "    plt.ylabel('frequency')\n",
    "    plt.title(\"Histogram of boot_data\")\n",
    "    plt.show()\n",
    "       \n",
    "    return {\"boot_data\": boot_data, \n",
    "            \"quants\": quants, \n",
    "            \"p_value\": p_value}"
   ]
  },
  {
   "cell_type": "code",
   "execution_count": 54,
   "id": "51c3bcda-caa3-4d12-b0f9-52be259806ad",
   "metadata": {},
   "outputs": [
    {
     "name": "stderr",
     "output_type": "stream",
     "text": [
      "100%|████████████████████████████████████████████████████████████████████████████| 2000/2000 [00:00<00:00, 2180.65it/s]\n"
     ]
    },
    {
     "data": {
      "image/png": "[encoded data removed]",
      "text/plain": [
       "<Figure size 432x288 with 1 Axes>"
      ]
     },
     "metadata": {},
     "output_type": "display_data"
    },
    {
     "name": "stdout",
     "output_type": "stream",
     "text": [
      "p-value = 8.225348568964743e-07\n",
      "Отклоняем H0, средние значения контрольной и целевой группы отличаются\n"
     ]
    }
   ],
   "source": [
    "booted_data = get_bootstrap(df.query('rev > 0 & grp == \"A\"').rev,\n",
    "                            df.query('rev > 0 & grp == \"B\"').rev)\n",
    "\n",
    "print(f'p-value = {booted_data[\"p_value\"]}')\n",
    "\n",
    "prob = 0.95\n",
    "alpha = 1.0 - prob\n",
    "if booted_data[\"p_value\"] <= alpha:\n",
    "    print('Отклоняем H0, средние значения контрольной и целевой группы отличаются')\n",
    "else:\n",
    "    print('Не отклоняем H0, средние значения контрольной и целевой группы не отличаются')"
   ]
  },
  {
   "cell_type": "markdown",
   "id": "21aed0c6-937d-4f56-97aa-3143c20cad73",
   "metadata": {},
   "source": [
    "В группе *В* увеличился средний чек по сравнению с группой *А* (изменения статистически значимы), следовательно, можно запускать новую механику на всех пользователей"
   ]
  },
  {
   "cell_type": "markdown",
   "id": "3726fc2c-c852-4786-aeb4-866a4a98a228",
   "metadata": {},
   "source": [
    "## Добавление новых данных\n",
    "\n",
    "Реализуем функцию, которая будет автоматически подгружать информацию из дополнительного файла ```groups_add.csv``` и на основании дополнительных параметров пересчитывать метрики"
   ]
  },
  {
   "cell_type": "code",
   "execution_count": null,
   "id": "8adb264b-707d-4fc4-8bde-970f6c875b48",
   "metadata": {},
   "outputs": [],
   "source": [
    "def get_metrics(path):\n",
    "    \n",
    "    '''\n",
    "    Добавляет новую информацию. Так как мы проводим конкатенацию имеющегося файла с новым,\n",
    "    то название заголовком не обязательно должно совпадать, главное, чтобы было одинаковое\n",
    "    количество и последовательность расположения столбцов.\n",
    "    \n",
    "    '''\n",
    "    #проверяем путь файла, если это ссылка на Яндекс.Диск, \n",
    "    #тогда применим тот же функционал, что ранее\n",
    "    if 'https://disk.yandex.ru/' in path:\n",
    "        base_url = 'https://cloud-api.yandex.net/v1/disk/public/resources/download?'\n",
    "        final_url = base_url + urlencode(dict(public_key = path)) \n",
    "        response = requests.get(final_url) \n",
    "        download_url = response.json()['href'] \n",
    "        groups_add = pd.read_csv(download_url)\n",
    "    else:\n",
    "        #если в качестве пути не ссылка, то сразу считываем\n",
    "        groups_add = pd.read_csv(path) \n",
    "        \n",
    "    # добавляем пользователей к уже имеющимся\n",
    "    groups_all = pd.concat([groups, groups_add], axis=0)\n",
    "    \n",
    "    # отбираем тех, которые активные\n",
    "    active_from_groups = groups_all.loc[groups_all.id.isin(active_studs.student_id)]\n",
    "    \n",
    "    #объединияем с данными об оплате\n",
    "    checks.columns = ['id', 'rev']\n",
    "    df = active_from_groups.merge(checks, how='left', on='id')\n",
    "    \n",
    "    # создаем датафрейм с метриками\n",
    "    metrics = df.groupby('grp', as_index=False) \\\n",
    "                 .agg({'id': 'count'}) \\\n",
    "                 .merge(df.query('rev > 0') \\\n",
    "                          .groupby('grp', as_index=False) \\\n",
    "                          .agg({'id': 'count'}), on='grp') \\\n",
    "                 .rename(columns={'grp': 'group', \n",
    "                                  'id_x': 'users', \n",
    "                                  'id_y': 'purchases'})\n",
    "    # считаем CR\n",
    "    metrics['CR'] = metrics.purchases / metrics.users\n",
    "    \n",
    "    # считаем revenue\n",
    "    revenue = df.groupby('grp', as_index=False) \\\n",
    "                .agg({'rev': 'sum'}) \\\n",
    "                .rename(columns={'grp': 'group', \n",
    "                                 'rev':'revenue'})\n",
    "\n",
    "    metrics = metrics.merge(revenue, on='group')\n",
    "  \n",
    "    # считаем ARPPU и ARPAU\n",
    "    metrics['ARPPU'] = (metrics.revenue / metrics.purchases).round(3)\n",
    "    metrics['ARPAU'] = (metrics.CR * metrics.ARPPU).round(3)\n",
    "    \n",
    "    return metrics"
   ]
  },
  {
   "cell_type": "markdown",
   "id": "7f4dd59d-7496-4d98-b091-6ecc7e30d7a1",
   "metadata": {},
   "source": [
    "Проверяем:"
   ]
  },
  {
   "cell_type": "code",
   "execution_count": null,
   "id": "c7f4347f-698e-4658-8cbc-5aa19aac33f9",
   "metadata": {},
   "outputs": [
    {
     "data": {
      "text/html": [
       "<div>\n",
       "<style scoped>\n",
       "    .dataframe tbody tr th:only-of-type {\n",
       "        vertical-align: middle;\n",
       "    }\n",
       "\n",
       "    .dataframe tbody tr th {\n",
       "        vertical-align: top;\n",
       "    }\n",
       "\n",
       "    .dataframe thead th {\n",
       "        text-align: right;\n",
       "    }\n",
       "</style>\n",
       "<table border=\"1\" class=\"dataframe\">\n",
       "  <thead>\n",
       "    <tr style=\"text-align: right;\">\n",
       "      <th></th>\n",
       "      <th>group</th>\n",
       "      <th>users</th>\n",
       "      <th>purchases</th>\n",
       "      <th>CR</th>\n",
       "      <th>revenue</th>\n",
       "      <th>ARPPU</th>\n",
       "      <th>ARPAU</th>\n",
       "    </tr>\n",
       "  </thead>\n",
       "  <tbody>\n",
       "    <tr>\n",
       "      <th>0</th>\n",
       "      <td>A</td>\n",
       "      <td>1538</td>\n",
       "      <td>78</td>\n",
       "      <td>0.050715</td>\n",
       "      <td>72820.0000</td>\n",
       "      <td>933.590</td>\n",
       "      <td>47.347</td>\n",
       "    </tr>\n",
       "    <tr>\n",
       "      <th>1</th>\n",
       "      <td>B</td>\n",
       "      <td>6803</td>\n",
       "      <td>314</td>\n",
       "      <td>0.046156</td>\n",
       "      <td>394974.0035</td>\n",
       "      <td>1257.879</td>\n",
       "      <td>58.059</td>\n",
       "    </tr>\n",
       "  </tbody>\n",
       "</table>\n",
       "</div>"
      ],
      "text/plain": [
       "  group  users  purchases        CR      revenue     ARPPU   ARPAU\n",
       "0     A   1538         78  0.050715   72820.0000   933.590  47.347\n",
       "1     B   6803        314  0.046156  394974.0035  1257.879  58.059"
      ]
     },
     "execution_count": 63,
     "metadata": {},
     "output_type": "execute_result"
    }
   ],
   "source": [
    "get_metrics('https://disk.yandex.ru/d/3aARY-P9pfaksg')"
   ]
  },
  {
   "cell_type": "markdown",
   "id": "a1694f79-86cf-427e-a90e-154dc9d4521a",
   "metadata": {},
   "source": [
    "Дополнительно создадим функцию, которая будет строить графики по полученным метрикам"
   ]
  },
  {
   "cell_type": "code",
   "execution_count": 64,
   "id": "3b15d23f-2543-4753-9d1c-3b2af83aca3d",
   "metadata": {},
   "outputs": [],
   "source": [
    "def get_plots(metrics):\n",
    "    \n",
    "    fig, ax = plt.subplots(1, 4, figsize=(16, 5))\n",
    "    \n",
    "    sns.barplot(x = metrics.group, \n",
    "                y = metrics.CR, \n",
    "                ax = ax[0]).set_title('CR')\n",
    "    \n",
    "    sns.barplot(x = metrics.group, \n",
    "                y = metrics.revenue, \n",
    "                ax = ax[1]).set_title('Revenue')\n",
    "     \n",
    "    sns.barplot(x = metrics.group,\n",
    "                y = metrics.ARPPU, \n",
    "                ax = ax[2]).set_title('ARPPU')\n",
    "    \n",
    "    sns.barplot(x = metrics.group,\n",
    "                y = metrics.ARPAU,\n",
    "                ax = ax[3]).set_title('ARPAU')\n",
    "    \n",
    "    plt.subplots_adjust(left=0.1,\n",
    "                        bottom=0.1, \n",
    "                        right=0.9, \n",
    "                        top=0.9, \n",
    "                        wspace=0.4, \n",
    "                        hspace=0.4)"
   ]
  },
  {
   "cell_type": "code",
   "execution_count": 65,
   "id": "a43fdd7b-7ab8-44cb-b0e4-90ba1099b1a4",
   "metadata": {},
   "outputs": [
    {
     "data": {
      "image/png": "[encoded data removed]",
      "text/plain": [
       "<Figure size 1152x360 with 4 Axes>"
      ]
     },
     "metadata": {},
     "output_type": "display_data"
    }
   ],
   "source": [
    "get_plots(metrics)"
   ]
  }
 ],
 "metadata": {
  "kernelspec": {
   "display_name": "Python 3 (ipykernel)",
   "language": "python",
   "name": "python3"
  },
  "language_info": {
   "codemirror_mode": {
    "name": "ipython",
    "version": 3
   },
   "file_extension": ".py",
   "mimetype": "text/x-python",
   "name": "python",
   "nbconvert_exporter": "python",
   "pygments_lexer": "ipython3",
   "version": "3.10.6"
  }
 },
 "nbformat": 4,
 "nbformat_minor": 5
}
